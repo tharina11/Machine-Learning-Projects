{
 "cells": [
  {
   "cell_type": "markdown",
   "metadata": {},
   "source": [
    "### Singapore AirBnB\n",
    "\n",
    "The dataset consists of information on AirBnB reservations in Singapore. The original data set can be downloaded in [Inside Airbnb](http://insideairbnb.com/get-the-data.html) website and the data set used in this project is a cleaned version downloaded from [Kaggle.com](https://www.kaggle.com/jojoker/singapore-airbnb). \n",
    "\n",
    "In this project, data set will be analyzed using Pandas, and Numpy libraires. Seaborn and Folium librarires will be used to visualize the patterns in the data set. "
   ]
  },
  {
   "cell_type": "code",
   "execution_count": 1,
   "metadata": {},
   "outputs": [],
   "source": [
    "# Import libraries\n",
    "import pandas as pd\n",
    "import numpy as np\n",
    "import seaborn as sns\n",
    "import matplotlib.pyplot as plt\n",
    "import folium\n",
    "from folium import plugins\n",
    "from folium.plugins import HeatMap"
   ]
  },
  {
   "cell_type": "code",
   "execution_count": 2,
   "metadata": {},
   "outputs": [],
   "source": [
    "# Import data\n",
    "data = pd.read_csv('listings.csv')"
   ]
  },
  {
   "cell_type": "code",
   "execution_count": 3,
   "metadata": {},
   "outputs": [
    {
     "data": {
      "text/html": [
       "<div>\n",
       "<style scoped>\n",
       "    .dataframe tbody tr th:only-of-type {\n",
       "        vertical-align: middle;\n",
       "    }\n",
       "\n",
       "    .dataframe tbody tr th {\n",
       "        vertical-align: top;\n",
       "    }\n",
       "\n",
       "    .dataframe thead th {\n",
       "        text-align: right;\n",
       "    }\n",
       "</style>\n",
       "<table border=\"1\" class=\"dataframe\">\n",
       "  <thead>\n",
       "    <tr style=\"text-align: right;\">\n",
       "      <th></th>\n",
       "      <th>id</th>\n",
       "      <th>name</th>\n",
       "      <th>host_id</th>\n",
       "      <th>host_name</th>\n",
       "      <th>neighbourhood_group</th>\n",
       "      <th>neighbourhood</th>\n",
       "      <th>latitude</th>\n",
       "      <th>longitude</th>\n",
       "      <th>room_type</th>\n",
       "      <th>price</th>\n",
       "      <th>minimum_nights</th>\n",
       "      <th>number_of_reviews</th>\n",
       "      <th>last_review</th>\n",
       "      <th>reviews_per_month</th>\n",
       "      <th>calculated_host_listings_count</th>\n",
       "      <th>availability_365</th>\n",
       "    </tr>\n",
       "  </thead>\n",
       "  <tbody>\n",
       "    <tr>\n",
       "      <th>0</th>\n",
       "      <td>49091</td>\n",
       "      <td>COZICOMFORT LONG TERM STAY ROOM 2</td>\n",
       "      <td>266763</td>\n",
       "      <td>Francesca</td>\n",
       "      <td>North Region</td>\n",
       "      <td>Woodlands</td>\n",
       "      <td>1.44255</td>\n",
       "      <td>103.79580</td>\n",
       "      <td>Private room</td>\n",
       "      <td>83</td>\n",
       "      <td>180</td>\n",
       "      <td>1</td>\n",
       "      <td>2013-10-21</td>\n",
       "      <td>0.01</td>\n",
       "      <td>2</td>\n",
       "      <td>365</td>\n",
       "    </tr>\n",
       "    <tr>\n",
       "      <th>1</th>\n",
       "      <td>50646</td>\n",
       "      <td>Pleasant Room along Bukit Timah</td>\n",
       "      <td>227796</td>\n",
       "      <td>Sujatha</td>\n",
       "      <td>Central Region</td>\n",
       "      <td>Bukit Timah</td>\n",
       "      <td>1.33235</td>\n",
       "      <td>103.78521</td>\n",
       "      <td>Private room</td>\n",
       "      <td>81</td>\n",
       "      <td>90</td>\n",
       "      <td>18</td>\n",
       "      <td>2014-12-26</td>\n",
       "      <td>0.28</td>\n",
       "      <td>1</td>\n",
       "      <td>365</td>\n",
       "    </tr>\n",
       "    <tr>\n",
       "      <th>2</th>\n",
       "      <td>56334</td>\n",
       "      <td>COZICOMFORT</td>\n",
       "      <td>266763</td>\n",
       "      <td>Francesca</td>\n",
       "      <td>North Region</td>\n",
       "      <td>Woodlands</td>\n",
       "      <td>1.44246</td>\n",
       "      <td>103.79667</td>\n",
       "      <td>Private room</td>\n",
       "      <td>69</td>\n",
       "      <td>6</td>\n",
       "      <td>20</td>\n",
       "      <td>2015-10-01</td>\n",
       "      <td>0.20</td>\n",
       "      <td>2</td>\n",
       "      <td>365</td>\n",
       "    </tr>\n",
       "    <tr>\n",
       "      <th>3</th>\n",
       "      <td>71609</td>\n",
       "      <td>Ensuite Room (Room 1 &amp; 2) near EXPO</td>\n",
       "      <td>367042</td>\n",
       "      <td>Belinda</td>\n",
       "      <td>East Region</td>\n",
       "      <td>Tampines</td>\n",
       "      <td>1.34541</td>\n",
       "      <td>103.95712</td>\n",
       "      <td>Private room</td>\n",
       "      <td>206</td>\n",
       "      <td>1</td>\n",
       "      <td>14</td>\n",
       "      <td>2019-08-11</td>\n",
       "      <td>0.15</td>\n",
       "      <td>9</td>\n",
       "      <td>353</td>\n",
       "    </tr>\n",
       "    <tr>\n",
       "      <th>4</th>\n",
       "      <td>71896</td>\n",
       "      <td>B&amp;B  Room 1 near Airport &amp; EXPO</td>\n",
       "      <td>367042</td>\n",
       "      <td>Belinda</td>\n",
       "      <td>East Region</td>\n",
       "      <td>Tampines</td>\n",
       "      <td>1.34567</td>\n",
       "      <td>103.95963</td>\n",
       "      <td>Private room</td>\n",
       "      <td>94</td>\n",
       "      <td>1</td>\n",
       "      <td>22</td>\n",
       "      <td>2019-07-28</td>\n",
       "      <td>0.22</td>\n",
       "      <td>9</td>\n",
       "      <td>355</td>\n",
       "    </tr>\n",
       "    <tr>\n",
       "      <th>5</th>\n",
       "      <td>71903</td>\n",
       "      <td>Room 2-near Airport &amp; EXPO</td>\n",
       "      <td>367042</td>\n",
       "      <td>Belinda</td>\n",
       "      <td>East Region</td>\n",
       "      <td>Tampines</td>\n",
       "      <td>1.34702</td>\n",
       "      <td>103.96103</td>\n",
       "      <td>Private room</td>\n",
       "      <td>104</td>\n",
       "      <td>1</td>\n",
       "      <td>39</td>\n",
       "      <td>2019-08-15</td>\n",
       "      <td>0.38</td>\n",
       "      <td>9</td>\n",
       "      <td>346</td>\n",
       "    </tr>\n",
       "    <tr>\n",
       "      <th>6</th>\n",
       "      <td>71907</td>\n",
       "      <td>3rd level Jumbo room 5 near EXPO</td>\n",
       "      <td>367042</td>\n",
       "      <td>Belinda</td>\n",
       "      <td>East Region</td>\n",
       "      <td>Tampines</td>\n",
       "      <td>1.34348</td>\n",
       "      <td>103.96337</td>\n",
       "      <td>Private room</td>\n",
       "      <td>208</td>\n",
       "      <td>1</td>\n",
       "      <td>25</td>\n",
       "      <td>2019-07-25</td>\n",
       "      <td>0.25</td>\n",
       "      <td>9</td>\n",
       "      <td>172</td>\n",
       "    </tr>\n",
       "    <tr>\n",
       "      <th>7</th>\n",
       "      <td>241503</td>\n",
       "      <td>Long stay at The Breezy East \"Leopard\"</td>\n",
       "      <td>1017645</td>\n",
       "      <td>Bianca</td>\n",
       "      <td>East Region</td>\n",
       "      <td>Bedok</td>\n",
       "      <td>1.32304</td>\n",
       "      <td>103.91363</td>\n",
       "      <td>Private room</td>\n",
       "      <td>50</td>\n",
       "      <td>90</td>\n",
       "      <td>174</td>\n",
       "      <td>2019-05-31</td>\n",
       "      <td>1.88</td>\n",
       "      <td>4</td>\n",
       "      <td>59</td>\n",
       "    </tr>\n",
       "  </tbody>\n",
       "</table>\n",
       "</div>"
      ],
      "text/plain": [
       "       id                                    name  host_id  host_name  \\\n",
       "0   49091       COZICOMFORT LONG TERM STAY ROOM 2   266763  Francesca   \n",
       "1   50646         Pleasant Room along Bukit Timah   227796    Sujatha   \n",
       "2   56334                             COZICOMFORT   266763  Francesca   \n",
       "3   71609     Ensuite Room (Room 1 & 2) near EXPO   367042    Belinda   \n",
       "4   71896         B&B  Room 1 near Airport & EXPO   367042    Belinda   \n",
       "5   71903              Room 2-near Airport & EXPO   367042    Belinda   \n",
       "6   71907        3rd level Jumbo room 5 near EXPO   367042    Belinda   \n",
       "7  241503  Long stay at The Breezy East \"Leopard\"  1017645     Bianca   \n",
       "\n",
       "  neighbourhood_group neighbourhood  latitude  longitude     room_type  price  \\\n",
       "0        North Region     Woodlands   1.44255  103.79580  Private room     83   \n",
       "1      Central Region   Bukit Timah   1.33235  103.78521  Private room     81   \n",
       "2        North Region     Woodlands   1.44246  103.79667  Private room     69   \n",
       "3         East Region      Tampines   1.34541  103.95712  Private room    206   \n",
       "4         East Region      Tampines   1.34567  103.95963  Private room     94   \n",
       "5         East Region      Tampines   1.34702  103.96103  Private room    104   \n",
       "6         East Region      Tampines   1.34348  103.96337  Private room    208   \n",
       "7         East Region         Bedok   1.32304  103.91363  Private room     50   \n",
       "\n",
       "   minimum_nights  number_of_reviews last_review  reviews_per_month  \\\n",
       "0             180                  1  2013-10-21               0.01   \n",
       "1              90                 18  2014-12-26               0.28   \n",
       "2               6                 20  2015-10-01               0.20   \n",
       "3               1                 14  2019-08-11               0.15   \n",
       "4               1                 22  2019-07-28               0.22   \n",
       "5               1                 39  2019-08-15               0.38   \n",
       "6               1                 25  2019-07-25               0.25   \n",
       "7              90                174  2019-05-31               1.88   \n",
       "\n",
       "   calculated_host_listings_count  availability_365  \n",
       "0                               2               365  \n",
       "1                               1               365  \n",
       "2                               2               365  \n",
       "3                               9               353  \n",
       "4                               9               355  \n",
       "5                               9               346  \n",
       "6                               9               172  \n",
       "7                               4                59  "
      ]
     },
     "execution_count": 3,
     "metadata": {},
     "output_type": "execute_result"
    }
   ],
   "source": [
    "# First five columns of the dataset\n",
    "data.head(8)"
   ]
  },
  {
   "cell_type": "code",
   "execution_count": 4,
   "metadata": {},
   "outputs": [
    {
     "data": {
      "text/plain": [
       "array(['Private room', 'Entire home/apt', 'Shared room'], dtype=object)"
      ]
     },
     "execution_count": 4,
     "metadata": {},
     "output_type": "execute_result"
    }
   ],
   "source": [
    "data.room_type.unique()"
   ]
  },
  {
   "cell_type": "code",
   "execution_count": 5,
   "metadata": {},
   "outputs": [
    {
     "data": {
      "text/plain": [
       "7457"
      ]
     },
     "execution_count": 5,
     "metadata": {},
     "output_type": "execute_result"
    }
   ],
   "source": [
    "data.name.nunique()"
   ]
  },
  {
   "cell_type": "code",
   "execution_count": 6,
   "metadata": {},
   "outputs": [
    {
     "data": {
      "text/plain": [
       "7907"
      ]
     },
     "execution_count": 6,
     "metadata": {},
     "output_type": "execute_result"
    }
   ],
   "source": [
    "# Check whether are there any duplicate ids\n",
    "data.id.nunique()"
   ]
  },
  {
   "cell_type": "markdown",
   "metadata": {},
   "source": [
    "The id column represents the number of each reservation and the other columns provide information on each reservation. There are several points that seems interesting to explore in this dataset. In the 'name' column, the first and third reservations are set to the same host with two different names. it would be interesting to see explore how many names are there for each host. Reviews columns provide a different dimension on AirBNB reservations for the analysis. Further, one more interesting part of the project will be visualizing and analyzing the spatial attribute of the data, because analyzing the spatial attributes of the dataset will reveal additional insights about the data set.      \n",
    "\n",
    "Let's start with exploring the basics information and statistics of the dataset."
   ]
  },
  {
   "cell_type": "code",
   "execution_count": 7,
   "metadata": {},
   "outputs": [
    {
     "data": {
      "text/plain": [
       "(7907, 16)"
      ]
     },
     "execution_count": 7,
     "metadata": {},
     "output_type": "execute_result"
    }
   ],
   "source": [
    "# Dimensions of the dataset\n",
    "data.shape"
   ]
  },
  {
   "cell_type": "markdown",
   "metadata": {},
   "source": [
    "The data set consists of 7907 AirBnB reservations and 16 attributes on each reservation. "
   ]
  },
  {
   "cell_type": "code",
   "execution_count": 8,
   "metadata": {},
   "outputs": [
    {
     "data": {
      "text/plain": [
       "Index(['id', 'name', 'host_id', 'host_name', 'neighbourhood_group',\n",
       "       'neighbourhood', 'latitude', 'longitude', 'room_type', 'price',\n",
       "       'minimum_nights', 'number_of_reviews', 'last_review',\n",
       "       'reviews_per_month', 'calculated_host_listings_count',\n",
       "       'availability_365'],\n",
       "      dtype='object')"
      ]
     },
     "execution_count": 8,
     "metadata": {},
     "output_type": "execute_result"
    }
   ],
   "source": [
    "# Column names of the dataset\n",
    "data.columns"
   ]
  },
  {
   "cell_type": "code",
   "execution_count": 9,
   "metadata": {},
   "outputs": [
    {
     "data": {
      "text/plain": [
       "id                                  int64\n",
       "name                               object\n",
       "host_id                             int64\n",
       "host_name                          object\n",
       "neighbourhood_group                object\n",
       "neighbourhood                      object\n",
       "latitude                          float64\n",
       "longitude                         float64\n",
       "room_type                          object\n",
       "price                               int64\n",
       "minimum_nights                      int64\n",
       "number_of_reviews                   int64\n",
       "last_review                        object\n",
       "reviews_per_month                 float64\n",
       "calculated_host_listings_count      int64\n",
       "availability_365                    int64\n",
       "dtype: object"
      ]
     },
     "execution_count": 9,
     "metadata": {},
     "output_type": "execute_result"
    }
   ],
   "source": [
    "# Data type of each column\n",
    "data.dtypes"
   ]
  },
  {
   "cell_type": "code",
   "execution_count": 10,
   "metadata": {},
   "outputs": [
    {
     "data": {
      "text/html": [
       "<div>\n",
       "<style scoped>\n",
       "    .dataframe tbody tr th:only-of-type {\n",
       "        vertical-align: middle;\n",
       "    }\n",
       "\n",
       "    .dataframe tbody tr th {\n",
       "        vertical-align: top;\n",
       "    }\n",
       "\n",
       "    .dataframe thead th {\n",
       "        text-align: right;\n",
       "    }\n",
       "</style>\n",
       "<table border=\"1\" class=\"dataframe\">\n",
       "  <thead>\n",
       "    <tr style=\"text-align: right;\">\n",
       "      <th></th>\n",
       "      <th>id</th>\n",
       "      <th>host_id</th>\n",
       "      <th>latitude</th>\n",
       "      <th>longitude</th>\n",
       "      <th>price</th>\n",
       "      <th>minimum_nights</th>\n",
       "      <th>number_of_reviews</th>\n",
       "      <th>reviews_per_month</th>\n",
       "      <th>calculated_host_listings_count</th>\n",
       "      <th>availability_365</th>\n",
       "    </tr>\n",
       "  </thead>\n",
       "  <tbody>\n",
       "    <tr>\n",
       "      <th>count</th>\n",
       "      <td>7.907000e+03</td>\n",
       "      <td>7.907000e+03</td>\n",
       "      <td>7907.000000</td>\n",
       "      <td>7907.000000</td>\n",
       "      <td>7907.000000</td>\n",
       "      <td>7907.000000</td>\n",
       "      <td>7907.000000</td>\n",
       "      <td>5149.000000</td>\n",
       "      <td>7907.000000</td>\n",
       "      <td>7907.000000</td>\n",
       "    </tr>\n",
       "    <tr>\n",
       "      <th>mean</th>\n",
       "      <td>2.338862e+07</td>\n",
       "      <td>9.114481e+07</td>\n",
       "      <td>1.314192</td>\n",
       "      <td>103.848787</td>\n",
       "      <td>169.332996</td>\n",
       "      <td>17.510054</td>\n",
       "      <td>12.807386</td>\n",
       "      <td>1.043669</td>\n",
       "      <td>40.607689</td>\n",
       "      <td>208.726318</td>\n",
       "    </tr>\n",
       "    <tr>\n",
       "      <th>std</th>\n",
       "      <td>1.016416e+07</td>\n",
       "      <td>8.190910e+07</td>\n",
       "      <td>0.030577</td>\n",
       "      <td>0.043675</td>\n",
       "      <td>340.187599</td>\n",
       "      <td>42.094616</td>\n",
       "      <td>29.707746</td>\n",
       "      <td>1.285851</td>\n",
       "      <td>65.135253</td>\n",
       "      <td>146.120034</td>\n",
       "    </tr>\n",
       "    <tr>\n",
       "      <th>min</th>\n",
       "      <td>4.909100e+04</td>\n",
       "      <td>2.366600e+04</td>\n",
       "      <td>1.243870</td>\n",
       "      <td>103.646560</td>\n",
       "      <td>0.000000</td>\n",
       "      <td>1.000000</td>\n",
       "      <td>0.000000</td>\n",
       "      <td>0.010000</td>\n",
       "      <td>1.000000</td>\n",
       "      <td>0.000000</td>\n",
       "    </tr>\n",
       "    <tr>\n",
       "      <th>25%</th>\n",
       "      <td>1.582180e+07</td>\n",
       "      <td>2.305808e+07</td>\n",
       "      <td>1.295795</td>\n",
       "      <td>103.835825</td>\n",
       "      <td>65.000000</td>\n",
       "      <td>1.000000</td>\n",
       "      <td>0.000000</td>\n",
       "      <td>0.180000</td>\n",
       "      <td>2.000000</td>\n",
       "      <td>54.000000</td>\n",
       "    </tr>\n",
       "    <tr>\n",
       "      <th>50%</th>\n",
       "      <td>2.470627e+07</td>\n",
       "      <td>6.344891e+07</td>\n",
       "      <td>1.311030</td>\n",
       "      <td>103.849410</td>\n",
       "      <td>124.000000</td>\n",
       "      <td>3.000000</td>\n",
       "      <td>2.000000</td>\n",
       "      <td>0.550000</td>\n",
       "      <td>9.000000</td>\n",
       "      <td>260.000000</td>\n",
       "    </tr>\n",
       "    <tr>\n",
       "      <th>75%</th>\n",
       "      <td>3.234850e+07</td>\n",
       "      <td>1.553811e+08</td>\n",
       "      <td>1.322110</td>\n",
       "      <td>103.872535</td>\n",
       "      <td>199.000000</td>\n",
       "      <td>10.000000</td>\n",
       "      <td>10.000000</td>\n",
       "      <td>1.370000</td>\n",
       "      <td>48.000000</td>\n",
       "      <td>355.000000</td>\n",
       "    </tr>\n",
       "    <tr>\n",
       "      <th>max</th>\n",
       "      <td>3.811276e+07</td>\n",
       "      <td>2.885676e+08</td>\n",
       "      <td>1.454590</td>\n",
       "      <td>103.973420</td>\n",
       "      <td>10000.000000</td>\n",
       "      <td>1000.000000</td>\n",
       "      <td>323.000000</td>\n",
       "      <td>13.000000</td>\n",
       "      <td>274.000000</td>\n",
       "      <td>365.000000</td>\n",
       "    </tr>\n",
       "  </tbody>\n",
       "</table>\n",
       "</div>"
      ],
      "text/plain": [
       "                 id       host_id     latitude    longitude         price  \\\n",
       "count  7.907000e+03  7.907000e+03  7907.000000  7907.000000   7907.000000   \n",
       "mean   2.338862e+07  9.114481e+07     1.314192   103.848787    169.332996   \n",
       "std    1.016416e+07  8.190910e+07     0.030577     0.043675    340.187599   \n",
       "min    4.909100e+04  2.366600e+04     1.243870   103.646560      0.000000   \n",
       "25%    1.582180e+07  2.305808e+07     1.295795   103.835825     65.000000   \n",
       "50%    2.470627e+07  6.344891e+07     1.311030   103.849410    124.000000   \n",
       "75%    3.234850e+07  1.553811e+08     1.322110   103.872535    199.000000   \n",
       "max    3.811276e+07  2.885676e+08     1.454590   103.973420  10000.000000   \n",
       "\n",
       "       minimum_nights  number_of_reviews  reviews_per_month  \\\n",
       "count     7907.000000        7907.000000        5149.000000   \n",
       "mean        17.510054          12.807386           1.043669   \n",
       "std         42.094616          29.707746           1.285851   \n",
       "min          1.000000           0.000000           0.010000   \n",
       "25%          1.000000           0.000000           0.180000   \n",
       "50%          3.000000           2.000000           0.550000   \n",
       "75%         10.000000          10.000000           1.370000   \n",
       "max       1000.000000         323.000000          13.000000   \n",
       "\n",
       "       calculated_host_listings_count  availability_365  \n",
       "count                     7907.000000       7907.000000  \n",
       "mean                        40.607689        208.726318  \n",
       "std                         65.135253        146.120034  \n",
       "min                          1.000000          0.000000  \n",
       "25%                          2.000000         54.000000  \n",
       "50%                          9.000000        260.000000  \n",
       "75%                         48.000000        355.000000  \n",
       "max                        274.000000        365.000000  "
      ]
     },
     "execution_count": 10,
     "metadata": {},
     "output_type": "execute_result"
    }
   ],
   "source": [
    "# Descriptives statistics\n",
    "data.describe()"
   ]
  },
  {
   "cell_type": "markdown",
   "metadata": {},
   "source": [
    "The descriptive statistics are calculated only for the numerical attributes. "
   ]
  },
  {
   "cell_type": "code",
   "execution_count": 11,
   "metadata": {},
   "outputs": [
    {
     "data": {
      "text/plain": [
       "id                                   0\n",
       "name                                 2\n",
       "host_id                              0\n",
       "host_name                            0\n",
       "neighbourhood_group                  0\n",
       "neighbourhood                        0\n",
       "latitude                             0\n",
       "longitude                            0\n",
       "room_type                            0\n",
       "price                                0\n",
       "minimum_nights                       0\n",
       "number_of_reviews                    0\n",
       "last_review                       2758\n",
       "reviews_per_month                 2758\n",
       "calculated_host_listings_count       0\n",
       "availability_365                     0\n",
       "dtype: int64"
      ]
     },
     "execution_count": 11,
     "metadata": {},
     "output_type": "execute_result"
    }
   ],
   "source": [
    "# No data values in the dataset\n",
    "data.isnull().sum()"
   ]
  },
  {
   "cell_type": "markdown",
   "metadata": {},
   "source": [
    "The data set has two missing values in the name column, these reservations should be able to use in the analysis as all the other information are available. Two columns related to reviews contain about 35% of no data values. It is possible that many people did not provide any reviews. Also the number of missing values of the both columns are equal, which would be interesting to explore.  "
   ]
  },
  {
   "cell_type": "code",
   "execution_count": 12,
   "metadata": {},
   "outputs": [
    {
     "name": "stdout",
     "output_type": "stream",
     "text": [
      "0 10000\n"
     ]
    }
   ],
   "source": [
    "# Maximum and minimum prices of AirBnBs\n",
    "print(data.price.min(),data.price.max())"
   ]
  },
  {
   "cell_type": "markdown",
   "metadata": {},
   "source": [
    "The maximum price of the reservations is 10000, while the 75th percentile is only 199 (from the descriptive statistics table). "
   ]
  },
  {
   "cell_type": "code",
   "execution_count": 13,
   "metadata": {},
   "outputs": [
    {
     "data": {
      "text/plain": [
       "2705"
      ]
     },
     "execution_count": 13,
     "metadata": {},
     "output_type": "execute_result"
    }
   ],
   "source": [
    "# number of hosts\n",
    "data.host_id.nunique()"
   ]
  },
  {
   "cell_type": "code",
   "execution_count": 14,
   "metadata": {},
   "outputs": [
    {
     "data": {
      "text/plain": [
       "5"
      ]
     },
     "execution_count": 14,
     "metadata": {},
     "output_type": "execute_result"
    }
   ],
   "source": [
    "# Number of neighborhod groups\n",
    "data.neighbourhood_group.nunique()"
   ]
  },
  {
   "cell_type": "code",
   "execution_count": 15,
   "metadata": {},
   "outputs": [
    {
     "data": {
      "text/html": [
       "<div>\n",
       "<style scoped>\n",
       "    .dataframe tbody tr th:only-of-type {\n",
       "        vertical-align: middle;\n",
       "    }\n",
       "\n",
       "    .dataframe tbody tr th {\n",
       "        vertical-align: top;\n",
       "    }\n",
       "\n",
       "    .dataframe thead th {\n",
       "        text-align: right;\n",
       "    }\n",
       "</style>\n",
       "<table border=\"1\" class=\"dataframe\">\n",
       "  <thead>\n",
       "    <tr style=\"text-align: right;\">\n",
       "      <th></th>\n",
       "      <th>neighbourhood_group</th>\n",
       "      <th>id</th>\n",
       "      <th>host_id</th>\n",
       "      <th>latitude</th>\n",
       "      <th>longitude</th>\n",
       "      <th>price</th>\n",
       "      <th>minimum_nights</th>\n",
       "      <th>number_of_reviews</th>\n",
       "      <th>reviews_per_month</th>\n",
       "      <th>calculated_host_listings_count</th>\n",
       "      <th>availability_365</th>\n",
       "    </tr>\n",
       "  </thead>\n",
       "  <tbody>\n",
       "    <tr>\n",
       "      <th>0</th>\n",
       "      <td>Central Region</td>\n",
       "      <td>152172738363</td>\n",
       "      <td>584677940279</td>\n",
       "      <td>8224.60417</td>\n",
       "      <td>655195.88995</td>\n",
       "      <td>1114355</td>\n",
       "      <td>96798</td>\n",
       "      <td>82255</td>\n",
       "      <td>4471.81</td>\n",
       "      <td>298442</td>\n",
       "      <td>1359184</td>\n",
       "    </tr>\n",
       "    <tr>\n",
       "      <th>1</th>\n",
       "      <td>East Region</td>\n",
       "      <td>9641046574</td>\n",
       "      <td>40468531122</td>\n",
       "      <td>675.67165</td>\n",
       "      <td>52796.43309</td>\n",
       "      <td>72392</td>\n",
       "      <td>13026</td>\n",
       "      <td>9562</td>\n",
       "      <td>376.73</td>\n",
       "      <td>6224</td>\n",
       "      <td>88359</td>\n",
       "    </tr>\n",
       "    <tr>\n",
       "      <th>2</th>\n",
       "      <td>North Region</td>\n",
       "      <td>4584664393</td>\n",
       "      <td>17727329530</td>\n",
       "      <td>289.55189</td>\n",
       "      <td>21178.02567</td>\n",
       "      <td>22599</td>\n",
       "      <td>5899</td>\n",
       "      <td>1910</td>\n",
       "      <td>115.81</td>\n",
       "      <td>3045</td>\n",
       "      <td>43622</td>\n",
       "    </tr>\n",
       "    <tr>\n",
       "      <th>3</th>\n",
       "      <td>North-East Region</td>\n",
       "      <td>6923203606</td>\n",
       "      <td>28773566486</td>\n",
       "      <td>475.70932</td>\n",
       "      <td>35942.43077</td>\n",
       "      <td>34544</td>\n",
       "      <td>10979</td>\n",
       "      <td>4157</td>\n",
       "      <td>212.48</td>\n",
       "      <td>1062</td>\n",
       "      <td>57954</td>\n",
       "    </tr>\n",
       "    <tr>\n",
       "      <th>4</th>\n",
       "      <td>West Region</td>\n",
       "      <td>11612202010</td>\n",
       "      <td>49034624737</td>\n",
       "      <td>725.78279</td>\n",
       "      <td>56019.58295</td>\n",
       "      <td>95026</td>\n",
       "      <td>11750</td>\n",
       "      <td>3384</td>\n",
       "      <td>197.02</td>\n",
       "      <td>12312</td>\n",
       "      <td>101280</td>\n",
       "    </tr>\n",
       "  </tbody>\n",
       "</table>\n",
       "</div>"
      ],
      "text/plain": [
       "  neighbourhood_group            id       host_id    latitude     longitude  \\\n",
       "0      Central Region  152172738363  584677940279  8224.60417  655195.88995   \n",
       "1         East Region    9641046574   40468531122   675.67165   52796.43309   \n",
       "2        North Region    4584664393   17727329530   289.55189   21178.02567   \n",
       "3   North-East Region    6923203606   28773566486   475.70932   35942.43077   \n",
       "4         West Region   11612202010   49034624737   725.78279   56019.58295   \n",
       "\n",
       "     price  minimum_nights  number_of_reviews  reviews_per_month  \\\n",
       "0  1114355           96798              82255            4471.81   \n",
       "1    72392           13026               9562             376.73   \n",
       "2    22599            5899               1910             115.81   \n",
       "3    34544           10979               4157             212.48   \n",
       "4    95026           11750               3384             197.02   \n",
       "\n",
       "   calculated_host_listings_count  availability_365  \n",
       "0                          298442           1359184  \n",
       "1                            6224             88359  \n",
       "2                            3045             43622  \n",
       "3                            1062             57954  \n",
       "4                           12312            101280  "
      ]
     },
     "execution_count": 15,
     "metadata": {},
     "output_type": "execute_result"
    }
   ],
   "source": [
    "# Group data according to the neighborhood group\n",
    "df= data.groupby(data['neighbourhood_group'],as_index=False).sum()\n",
    "df"
   ]
  },
  {
   "cell_type": "code",
   "execution_count": 16,
   "metadata": {},
   "outputs": [
    {
     "data": {
      "text/plain": [
       "array(['Central Region', 'East Region', 'North Region',\n",
       "       'North-East Region', 'West Region'], dtype=object)"
      ]
     },
     "execution_count": 16,
     "metadata": {},
     "output_type": "execute_result"
    }
   ],
   "source": [
    "df['neighbourhood_group'].values"
   ]
  },
  {
   "cell_type": "markdown",
   "metadata": {},
   "source": [
    "A correlation matrix would be an ideal tool to get insights on the features affect on the price most and least. Before plotting the correlation matrix, some data should be dropped from the table and some features should be transformed."
   ]
  },
  {
   "cell_type": "code",
   "execution_count": 17,
   "metadata": {},
   "outputs": [
    {
     "data": {
      "text/plain": [
       "<AxesSubplot:xlabel='neighbourhood_group', ylabel='calculated_host_listings_count'>"
      ]
     },
     "execution_count": 17,
     "metadata": {},
     "output_type": "execute_result"
    },
    {
     "data": {
      "image/png": "[encoded data removed]",
      "text/plain": [
       "<Figure size 648x432 with 1 Axes>"
      ]
     },
     "metadata": {
      "needs_background": "light"
     },
     "output_type": "display_data"
    }
   ],
   "source": [
    "# Number of host listings in each neighborhood group\n",
    "plt.figure(figsize=(9,6))\n",
    "sns.barplot(x='neighbourhood_group', y='calculated_host_listings_count', data= df)"
   ]
  },
  {
   "cell_type": "code",
   "execution_count": 18,
   "metadata": {},
   "outputs": [
    {
     "data": {
      "text/plain": [
       "<AxesSubplot:xlabel='neighbourhood_group', ylabel='price'>"
      ]
     },
     "execution_count": 18,
     "metadata": {},
     "output_type": "execute_result"
    },
    {
     "data": {
      "image/png": "[encoded data removed]",
      "text/plain": [
       "<Figure size 648x432 with 1 Axes>"
      ]
     },
     "metadata": {
      "needs_background": "light"
     },
     "output_type": "display_data"
    }
   ],
   "source": [
    "# Total money spent for AirBnb in different neighborhood regions\n",
    "plt.figure(figsize=(9,6))\n",
    "sns.barplot(x='neighbourhood_group', y='price', data= df)"
   ]
  },
  {
   "cell_type": "markdown",
   "metadata": {},
   "source": [
    "Data can be plotted using a scatterplot."
   ]
  },
  {
   "cell_type": "code",
   "execution_count": 20,
   "metadata": {},
   "outputs": [
    {
     "data": {
      "image/png": "[encoded data removed]",
      "text/plain": [
       "<Figure size 720x432 with 1 Axes>"
      ]
     },
     "metadata": {
      "needs_background": "light"
     },
     "output_type": "display_data"
    }
   ],
   "source": [
    "# Plot location data in a scatterplot, color according to the neighborhood group\n",
    "plt.figure(figsize=(10,6))\n",
    "sns.scatterplot(data= data, x= 'longitude', y= 'latitude', hue='neighbourhood_group')\n",
    "plt.show()"
   ]
  },
  {
   "cell_type": "markdown",
   "metadata": {},
   "source": [
    "### Plot data in a map\n",
    "\n",
    "Folium is a frequently used library to visualize data in interactive maps. Plotting all the points of this data set takes a long time due to the limited performance of the computer. Therefore, a random sample of data is plotted in the first map. Only the selected data will be plotted after each analysis in this project. "
   ]
  },
  {
   "cell_type": "code",
   "execution_count": null,
   "metadata": {},
   "outputs": [],
   "source": [
    "# Create a longitude latitude lists to plot in a map\n",
    "a= data.latitude.values\n",
    "b= data.longitude.values\n",
    "\n",
    "# Create zip objects of latitude and longitude value pairs\n",
    "latlon = zip(a,b)\n",
    "latlon = list(latlon)\n",
    "\n",
    "# select a random subset of 75 locations to reduce plotting time\n",
    "from random import sample\n",
    "latlon = sample(latlon,75)"
   ]
  },
  {
   "cell_type": "code",
   "execution_count": null,
   "metadata": {},
   "outputs": [],
   "source": [
    "# Create a map object provide a location in the area of interest\n",
    "mapit = folium.Map( location=[1.33235, 103.78521], zoom_start=6 )\n",
    "# Draw the randomly selected subset of points on the map\n",
    "for coord in latlon:\n",
    "    folium.Marker( location=[ coord[0], coord[1] ], fill_color='#43d9de', radius=8 ).add_to( mapit )\n",
    "\n",
    "mapit"
   ]
  },
  {
   "cell_type": "code",
   "execution_count": null,
   "metadata": {},
   "outputs": [],
   "source": [
    "# Create a folium object with a different map time\n",
    "m = folium.Map(location=[1.33235, 103.78521], tiles='stamentoner', zoom_start=6)\n",
    "\n",
    "# Create a heatmap using the data subset\n",
    "HeatMap(latlon).add_to(m)\n",
    "m"
   ]
  },
  {
   "cell_type": "markdown",
   "metadata": {},
   "source": [
    "Explore the data set and answer the questions below.\n",
    "\n",
    "\n",
    "1. What is the average price of an AirBnB in each neighborhood_group?\n",
    "\n",
    "2. What is the neighborhood group with highest number of researvations? Rank the neighborhood groups according to the decreasing order.\n",
    "\n",
    "3. What is the price per room in each neighborhood region?\n",
    "\n",
    "4. How many neighborhoods are there in each neighborhood group?\n",
    "\n",
    "5. What is the name of the host who received the most number of AirBnB reservations?\n",
    "\n",
    "6. List five hosts with the most number of AirBnB facilities in the city. Plot each of the facilities in a map.\n",
    "\n",
    "7. Are there any hosts who own AirBnB facilites in more than one neighborhood?\n",
    "\n",
    "8. Find the geographic center of each neighborhood group. Plot the geographic centers in a map.\n",
    "\n",
    "9. What is the region with the highest chance of reserving an AirBnB at any time of the year?\n",
    "\n",
    "10. What is the best attribute that can be used to predict whether a AirBnB facility will get a review?"
   ]
  },
  {
   "cell_type": "code",
   "execution_count": null,
   "metadata": {},
   "outputs": [],
   "source": []
  }
 ],
 "metadata": {
  "kernelspec": {
   "display_name": "Python 3",
   "language": "python",
   "name": "python3"
  },
  "language_info": {
   "codemirror_mode": {
    "name": "ipython",
    "version": 3
   },
   "file_extension": ".py",
   "mimetype": "text/x-python",
   "name": "python",
   "nbconvert_exporter": "python",
   "pygments_lexer": "ipython3",
   "version": "3.8.5"
  }
 },
 "nbformat": 4,
 "nbformat_minor": 4
}
